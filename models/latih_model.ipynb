{
 "cells": [
  {
   "cell_type": "code",
   "execution_count": 1,
   "metadata": {},
   "outputs": [
    {
     "name": "stdout",
     "output_type": "stream",
     "text": [
      "Requirement already satisfied: torch in c:\\users\\user\\appdata\\local\\programs\\python\\python311\\lib\\site-packages (2.5.1)\n",
      "Requirement already satisfied: filelock in c:\\users\\user\\appdata\\local\\programs\\python\\python311\\lib\\site-packages (from torch) (3.16.1)\n",
      "Requirement already satisfied: typing-extensions>=4.8.0 in c:\\users\\user\\appdata\\roaming\\python\\python311\\site-packages (from torch) (4.12.2)\n",
      "Requirement already satisfied: networkx in c:\\users\\user\\appdata\\local\\programs\\python\\python311\\lib\\site-packages (from torch) (3.4.2)\n",
      "Requirement already satisfied: jinja2 in c:\\users\\user\\appdata\\local\\programs\\python\\python311\\lib\\site-packages (from torch) (3.1.4)\n",
      "Requirement already satisfied: fsspec in c:\\users\\user\\appdata\\local\\programs\\python\\python311\\lib\\site-packages (from torch) (2024.12.0)\n",
      "Requirement already satisfied: sympy==1.13.1 in c:\\users\\user\\appdata\\local\\programs\\python\\python311\\lib\\site-packages (from torch) (1.13.1)\n",
      "Requirement already satisfied: mpmath<1.4,>=1.1.0 in c:\\users\\user\\appdata\\local\\programs\\python\\python311\\lib\\site-packages (from sympy==1.13.1->torch) (1.3.0)\n",
      "Requirement already satisfied: MarkupSafe>=2.0 in c:\\users\\user\\appdata\\local\\programs\\python\\python311\\lib\\site-packages (from jinja2->torch) (3.0.2)\n",
      "Note: you may need to restart the kernel to use updated packages.\n"
     ]
    },
    {
     "name": "stderr",
     "output_type": "stream",
     "text": [
      "\n",
      "[notice] A new release of pip is available: 24.0 -> 24.3.1\n",
      "[notice] To update, run: python.exe -m pip install --upgrade pip\n"
     ]
    }
   ],
   "source": [
    "%pip install torch"
   ]
  },
  {
   "cell_type": "code",
   "execution_count": 2,
   "metadata": {},
   "outputs": [
    {
     "name": "stdout",
     "output_type": "stream",
     "text": [
      "Requirement already satisfied: torch in c:\\users\\user\\appdata\\local\\programs\\python\\python311\\lib\\site-packages (2.5.1)\n",
      "Requirement already satisfied: torchvision in c:\\users\\user\\appdata\\local\\programs\\python\\python311\\lib\\site-packages (0.20.1)\n",
      "Requirement already satisfied: filelock in c:\\users\\user\\appdata\\local\\programs\\python\\python311\\lib\\site-packages (from torch) (3.16.1)\n",
      "Requirement already satisfied: typing-extensions>=4.8.0 in c:\\users\\user\\appdata\\roaming\\python\\python311\\site-packages (from torch) (4.12.2)\n",
      "Requirement already satisfied: networkx in c:\\users\\user\\appdata\\local\\programs\\python\\python311\\lib\\site-packages (from torch) (3.4.2)\n",
      "Requirement already satisfied: jinja2 in c:\\users\\user\\appdata\\local\\programs\\python\\python311\\lib\\site-packages (from torch) (3.1.4)\n",
      "Requirement already satisfied: fsspec in c:\\users\\user\\appdata\\local\\programs\\python\\python311\\lib\\site-packages (from torch) (2024.12.0)\n",
      "Requirement already satisfied: sympy==1.13.1 in c:\\users\\user\\appdata\\local\\programs\\python\\python311\\lib\\site-packages (from torch) (1.13.1)\n",
      "Requirement already satisfied: mpmath<1.4,>=1.1.0 in c:\\users\\user\\appdata\\local\\programs\\python\\python311\\lib\\site-packages (from sympy==1.13.1->torch) (1.3.0)\n",
      "Requirement already satisfied: numpy in c:\\users\\user\\appdata\\local\\programs\\python\\python311\\lib\\site-packages (from torchvision) (2.2.0)\n",
      "Requirement already satisfied: pillow!=8.3.*,>=5.3.0 in c:\\users\\user\\appdata\\local\\programs\\python\\python311\\lib\\site-packages (from torchvision) (11.0.0)\n",
      "Requirement already satisfied: MarkupSafe>=2.0 in c:\\users\\user\\appdata\\local\\programs\\python\\python311\\lib\\site-packages (from jinja2->torch) (3.0.2)\n",
      "Note: you may need to restart the kernel to use updated packages.\n"
     ]
    },
    {
     "name": "stderr",
     "output_type": "stream",
     "text": [
      "\n",
      "[notice] A new release of pip is available: 24.0 -> 24.3.1\n",
      "[notice] To update, run: python.exe -m pip install --upgrade pip\n"
     ]
    }
   ],
   "source": [
    "%pip install torch torchvision"
   ]
  },
  {
   "cell_type": "code",
   "execution_count": 3,
   "metadata": {},
   "outputs": [
    {
     "name": "stdout",
     "output_type": "stream",
     "text": [
      "Requirement already satisfied: streamlit in c:\\users\\user\\appdata\\local\\programs\\python\\python311\\lib\\site-packages (1.41.1)\n",
      "Requirement already satisfied: altair<6,>=4.0 in c:\\users\\user\\appdata\\local\\programs\\python\\python311\\lib\\site-packages (from streamlit) (5.5.0)\n",
      "Requirement already satisfied: blinker<2,>=1.0.0 in c:\\users\\user\\appdata\\local\\programs\\python\\python311\\lib\\site-packages (from streamlit) (1.9.0)\n",
      "Requirement already satisfied: cachetools<6,>=4.0 in c:\\users\\user\\appdata\\local\\programs\\python\\python311\\lib\\site-packages (from streamlit) (5.5.0)\n",
      "Requirement already satisfied: click<9,>=7.0 in c:\\users\\user\\appdata\\local\\programs\\python\\python311\\lib\\site-packages (from streamlit) (8.1.7)\n",
      "Requirement already satisfied: numpy<3,>=1.23 in c:\\users\\user\\appdata\\local\\programs\\python\\python311\\lib\\site-packages (from streamlit) (2.2.0)\n",
      "Requirement already satisfied: packaging<25,>=20 in c:\\users\\user\\appdata\\roaming\\python\\python311\\site-packages (from streamlit) (24.2)\n",
      "Requirement already satisfied: pandas<3,>=1.4.0 in c:\\users\\user\\appdata\\local\\programs\\python\\python311\\lib\\site-packages (from streamlit) (2.2.3)\n",
      "Requirement already satisfied: pillow<12,>=7.1.0 in c:\\users\\user\\appdata\\local\\programs\\python\\python311\\lib\\site-packages (from streamlit) (11.0.0)\n",
      "Requirement already satisfied: protobuf<6,>=3.20 in c:\\users\\user\\appdata\\local\\programs\\python\\python311\\lib\\site-packages (from streamlit) (5.29.2)\n",
      "Requirement already satisfied: pyarrow>=7.0 in c:\\users\\user\\appdata\\local\\programs\\python\\python311\\lib\\site-packages (from streamlit) (18.1.0)\n",
      "Requirement already satisfied: requests<3,>=2.27 in c:\\users\\user\\appdata\\local\\programs\\python\\python311\\lib\\site-packages (from streamlit) (2.32.3)\n",
      "Requirement already satisfied: rich<14,>=10.14.0 in c:\\users\\user\\appdata\\local\\programs\\python\\python311\\lib\\site-packages (from streamlit) (13.9.4)\n",
      "Requirement already satisfied: tenacity<10,>=8.1.0 in c:\\users\\user\\appdata\\local\\programs\\python\\python311\\lib\\site-packages (from streamlit) (9.0.0)\n",
      "Requirement already satisfied: toml<2,>=0.10.1 in c:\\users\\user\\appdata\\local\\programs\\python\\python311\\lib\\site-packages (from streamlit) (0.10.2)\n",
      "Requirement already satisfied: typing-extensions<5,>=4.3.0 in c:\\users\\user\\appdata\\roaming\\python\\python311\\site-packages (from streamlit) (4.12.2)\n",
      "Requirement already satisfied: watchdog<7,>=2.1.5 in c:\\users\\user\\appdata\\local\\programs\\python\\python311\\lib\\site-packages (from streamlit) (6.0.0)\n",
      "Requirement already satisfied: gitpython!=3.1.19,<4,>=3.0.7 in c:\\users\\user\\appdata\\local\\programs\\python\\python311\\lib\\site-packages (from streamlit) (3.1.43)\n",
      "Requirement already satisfied: pydeck<1,>=0.8.0b4 in c:\\users\\user\\appdata\\local\\programs\\python\\python311\\lib\\site-packages (from streamlit) (0.9.1)\n",
      "Requirement already satisfied: tornado<7,>=6.0.3 in c:\\users\\user\\appdata\\roaming\\python\\python311\\site-packages (from streamlit) (6.4.2)\n",
      "Requirement already satisfied: jinja2 in c:\\users\\user\\appdata\\local\\programs\\python\\python311\\lib\\site-packages (from altair<6,>=4.0->streamlit) (3.1.4)\n",
      "Requirement already satisfied: jsonschema>=3.0 in c:\\users\\user\\appdata\\local\\programs\\python\\python311\\lib\\site-packages (from altair<6,>=4.0->streamlit) (4.23.0)\n",
      "Requirement already satisfied: narwhals>=1.14.2 in c:\\users\\user\\appdata\\local\\programs\\python\\python311\\lib\\site-packages (from altair<6,>=4.0->streamlit) (1.19.0)\n",
      "Requirement already satisfied: colorama in c:\\users\\user\\appdata\\roaming\\python\\python311\\site-packages (from click<9,>=7.0->streamlit) (0.4.6)\n",
      "Requirement already satisfied: gitdb<5,>=4.0.1 in c:\\users\\user\\appdata\\local\\programs\\python\\python311\\lib\\site-packages (from gitpython!=3.1.19,<4,>=3.0.7->streamlit) (4.0.11)\n",
      "Requirement already satisfied: python-dateutil>=2.8.2 in c:\\users\\user\\appdata\\roaming\\python\\python311\\site-packages (from pandas<3,>=1.4.0->streamlit) (2.9.0.post0)\n",
      "Requirement already satisfied: pytz>=2020.1 in c:\\users\\user\\appdata\\local\\programs\\python\\python311\\lib\\site-packages (from pandas<3,>=1.4.0->streamlit) (2024.2)\n",
      "Requirement already satisfied: tzdata>=2022.7 in c:\\users\\user\\appdata\\local\\programs\\python\\python311\\lib\\site-packages (from pandas<3,>=1.4.0->streamlit) (2024.2)\n",
      "Requirement already satisfied: charset-normalizer<4,>=2 in c:\\users\\user\\appdata\\local\\programs\\python\\python311\\lib\\site-packages (from requests<3,>=2.27->streamlit) (3.4.0)\n",
      "Requirement already satisfied: idna<4,>=2.5 in c:\\users\\user\\appdata\\local\\programs\\python\\python311\\lib\\site-packages (from requests<3,>=2.27->streamlit) (3.10)\n",
      "Requirement already satisfied: urllib3<3,>=1.21.1 in c:\\users\\user\\appdata\\local\\programs\\python\\python311\\lib\\site-packages (from requests<3,>=2.27->streamlit) (2.2.3)\n",
      "Requirement already satisfied: certifi>=2017.4.17 in c:\\users\\user\\appdata\\local\\programs\\python\\python311\\lib\\site-packages (from requests<3,>=2.27->streamlit) (2024.12.14)\n",
      "Requirement already satisfied: markdown-it-py>=2.2.0 in c:\\users\\user\\appdata\\local\\programs\\python\\python311\\lib\\site-packages (from rich<14,>=10.14.0->streamlit) (3.0.0)\n",
      "Requirement already satisfied: pygments<3.0.0,>=2.13.0 in c:\\users\\user\\appdata\\roaming\\python\\python311\\site-packages (from rich<14,>=10.14.0->streamlit) (2.18.0)\n",
      "Requirement already satisfied: smmap<6,>=3.0.1 in c:\\users\\user\\appdata\\local\\programs\\python\\python311\\lib\\site-packages (from gitdb<5,>=4.0.1->gitpython!=3.1.19,<4,>=3.0.7->streamlit) (5.0.1)\n",
      "Requirement already satisfied: MarkupSafe>=2.0 in c:\\users\\user\\appdata\\local\\programs\\python\\python311\\lib\\site-packages (from jinja2->altair<6,>=4.0->streamlit) (3.0.2)\n",
      "Requirement already satisfied: attrs>=22.2.0 in c:\\users\\user\\appdata\\local\\programs\\python\\python311\\lib\\site-packages (from jsonschema>=3.0->altair<6,>=4.0->streamlit) (24.3.0)\n",
      "Requirement already satisfied: jsonschema-specifications>=2023.03.6 in c:\\users\\user\\appdata\\local\\programs\\python\\python311\\lib\\site-packages (from jsonschema>=3.0->altair<6,>=4.0->streamlit) (2024.10.1)\n",
      "Requirement already satisfied: referencing>=0.28.4 in c:\\users\\user\\appdata\\local\\programs\\python\\python311\\lib\\site-packages (from jsonschema>=3.0->altair<6,>=4.0->streamlit) (0.35.1)\n",
      "Requirement already satisfied: rpds-py>=0.7.1 in c:\\users\\user\\appdata\\local\\programs\\python\\python311\\lib\\site-packages (from jsonschema>=3.0->altair<6,>=4.0->streamlit) (0.22.3)\n",
      "Requirement already satisfied: mdurl~=0.1 in c:\\users\\user\\appdata\\local\\programs\\python\\python311\\lib\\site-packages (from markdown-it-py>=2.2.0->rich<14,>=10.14.0->streamlit) (0.1.2)\n",
      "Requirement already satisfied: six>=1.5 in c:\\users\\user\\appdata\\roaming\\python\\python311\\site-packages (from python-dateutil>=2.8.2->pandas<3,>=1.4.0->streamlit) (1.17.0)\n",
      "Note: you may need to restart the kernel to use updated packages.\n"
     ]
    },
    {
     "name": "stderr",
     "output_type": "stream",
     "text": [
      "\n",
      "[notice] A new release of pip is available: 24.0 -> 24.3.1\n",
      "[notice] To update, run: python.exe -m pip install --upgrade pip\n"
     ]
    }
   ],
   "source": [
    "%pip install streamlit"
   ]
  },
  {
   "cell_type": "code",
   "execution_count": 4,
   "metadata": {},
   "outputs": [
    {
     "name": "stdout",
     "output_type": "stream",
     "text": [
      "Requirement already satisfied: matplotlib in c:\\users\\user\\appdata\\local\\programs\\python\\python311\\lib\\site-packages (3.10.0)\n",
      "Requirement already satisfied: contourpy>=1.0.1 in c:\\users\\user\\appdata\\local\\programs\\python\\python311\\lib\\site-packages (from matplotlib) (1.3.1)\n",
      "Requirement already satisfied: cycler>=0.10 in c:\\users\\user\\appdata\\local\\programs\\python\\python311\\lib\\site-packages (from matplotlib) (0.12.1)\n",
      "Requirement already satisfied: fonttools>=4.22.0 in c:\\users\\user\\appdata\\local\\programs\\python\\python311\\lib\\site-packages (from matplotlib) (4.55.3)\n",
      "Requirement already satisfied: kiwisolver>=1.3.1 in c:\\users\\user\\appdata\\local\\programs\\python\\python311\\lib\\site-packages (from matplotlib) (1.4.7)\n",
      "Requirement already satisfied: numpy>=1.23 in c:\\users\\user\\appdata\\local\\programs\\python\\python311\\lib\\site-packages (from matplotlib) (2.2.0)\n",
      "Requirement already satisfied: packaging>=20.0 in c:\\users\\user\\appdata\\roaming\\python\\python311\\site-packages (from matplotlib) (24.2)\n",
      "Requirement already satisfied: pillow>=8 in c:\\users\\user\\appdata\\local\\programs\\python\\python311\\lib\\site-packages (from matplotlib) (11.0.0)\n",
      "Requirement already satisfied: pyparsing>=2.3.1 in c:\\users\\user\\appdata\\local\\programs\\python\\python311\\lib\\site-packages (from matplotlib) (3.2.0)\n",
      "Requirement already satisfied: python-dateutil>=2.7 in c:\\users\\user\\appdata\\roaming\\python\\python311\\site-packages (from matplotlib) (2.9.0.post0)\n",
      "Requirement already satisfied: six>=1.5 in c:\\users\\user\\appdata\\roaming\\python\\python311\\site-packages (from python-dateutil>=2.7->matplotlib) (1.17.0)\n",
      "Note: you may need to restart the kernel to use updated packages.\n"
     ]
    },
    {
     "name": "stderr",
     "output_type": "stream",
     "text": [
      "\n",
      "[notice] A new release of pip is available: 24.0 -> 24.3.1\n",
      "[notice] To update, run: python.exe -m pip install --upgrade pip\n"
     ]
    }
   ],
   "source": [
    "%pip install matplotlib"
   ]
  },
  {
   "cell_type": "code",
   "execution_count": 7,
   "metadata": {},
   "outputs": [
    {
     "name": "stdout",
     "output_type": "stream",
     "text": [
      "Collecting scikit-learn\n",
      "  Downloading scikit_learn-1.6.0-cp311-cp311-win_amd64.whl.metadata (15 kB)\n",
      "Requirement already satisfied: numpy>=1.19.5 in c:\\users\\user\\appdata\\local\\programs\\python\\python311\\lib\\site-packages (from scikit-learn) (2.2.0)\n",
      "Collecting scipy>=1.6.0 (from scikit-learn)\n",
      "  Downloading scipy-1.14.1-cp311-cp311-win_amd64.whl.metadata (60 kB)\n",
      "     ---------------------------------------- 0.0/60.8 kB ? eta -:--:--\n",
      "     ------ --------------------------------- 10.2/60.8 kB ? eta -:--:--\n",
      "     ------------------------- ------------ 41.0/60.8 kB 495.5 kB/s eta 0:00:01\n",
      "     -------------------------------------- 60.8/60.8 kB 543.4 kB/s eta 0:00:00\n",
      "Collecting joblib>=1.2.0 (from scikit-learn)\n",
      "  Using cached joblib-1.4.2-py3-none-any.whl.metadata (5.4 kB)\n",
      "Collecting threadpoolctl>=3.1.0 (from scikit-learn)\n",
      "  Using cached threadpoolctl-3.5.0-py3-none-any.whl.metadata (13 kB)\n",
      "Downloading scikit_learn-1.6.0-cp311-cp311-win_amd64.whl (11.1 MB)\n",
      "   ---------------------------------------- 0.0/11.1 MB ? eta -:--:--\n",
      "    --------------------------------------- 0.1/11.1 MB 2.8 MB/s eta 0:00:04\n",
      "   - -------------------------------------- 0.3/11.1 MB 3.3 MB/s eta 0:00:04\n",
      "   -- ------------------------------------- 0.7/11.1 MB 4.6 MB/s eta 0:00:03\n",
      "   ---- ----------------------------------- 1.3/11.1 MB 6.8 MB/s eta 0:00:02\n",
      "   ------ --------------------------------- 1.9/11.1 MB 7.9 MB/s eta 0:00:02\n",
      "   ------- -------------------------------- 2.2/11.1 MB 7.6 MB/s eta 0:00:02\n",
      "   --------- ------------------------------ 2.6/11.1 MB 8.0 MB/s eta 0:00:02\n",
      "   ----------- ---------------------------- 3.3/11.1 MB 8.7 MB/s eta 0:00:01\n",
      "   ------------- -------------------------- 3.7/11.1 MB 9.1 MB/s eta 0:00:01\n",
      "   --------------- ------------------------ 4.2/11.1 MB 9.2 MB/s eta 0:00:01\n",
      "   ---------------- ----------------------- 4.6/11.1 MB 9.2 MB/s eta 0:00:01\n",
      "   ----------------- ---------------------- 4.9/11.1 MB 9.0 MB/s eta 0:00:01\n",
      "   ------------------- -------------------- 5.4/11.1 MB 9.1 MB/s eta 0:00:01\n",
      "   ------------------- -------------------- 5.4/11.1 MB 9.1 MB/s eta 0:00:01\n",
      "   --------------------- ------------------ 5.9/11.1 MB 8.8 MB/s eta 0:00:01\n",
      "   --------------------- ------------------ 6.1/11.1 MB 8.2 MB/s eta 0:00:01\n",
      "   ----------------------- ---------------- 6.6/11.1 MB 8.4 MB/s eta 0:00:01\n",
      "   ------------------------- -------------- 7.2/11.1 MB 8.6 MB/s eta 0:00:01\n",
      "   --------------------------- ------------ 7.7/11.1 MB 8.8 MB/s eta 0:00:01\n",
      "   ----------------------------- ---------- 8.2/11.1 MB 8.9 MB/s eta 0:00:01\n",
      "   ------------------------------ --------- 8.5/11.1 MB 8.9 MB/s eta 0:00:01\n",
      "   ------------------------------- -------- 8.7/11.1 MB 8.6 MB/s eta 0:00:01\n",
      "   --------------------------------- ------ 9.3/11.1 MB 8.8 MB/s eta 0:00:01\n",
      "   ----------------------------------- ---- 9.9/11.1 MB 8.9 MB/s eta 0:00:01\n",
      "   ------------------------------------ --- 10.2/11.1 MB 9.0 MB/s eta 0:00:01\n",
      "   ------------------------------------ --- 10.2/11.1 MB 9.0 MB/s eta 0:00:01\n",
      "   ------------------------------------ --- 10.2/11.1 MB 8.2 MB/s eta 0:00:01\n",
      "   ------------------------------------- -- 10.4/11.1 MB 8.5 MB/s eta 0:00:01\n",
      "   ---------------------------------------  11.0/11.1 MB 8.6 MB/s eta 0:00:01\n",
      "   ---------------------------------------  11.1/11.1 MB 8.4 MB/s eta 0:00:01\n",
      "   ---------------------------------------  11.1/11.1 MB 8.4 MB/s eta 0:00:01\n",
      "   ---------------------------------------- 11.1/11.1 MB 8.0 MB/s eta 0:00:00\n",
      "Using cached joblib-1.4.2-py3-none-any.whl (301 kB)\n",
      "Downloading scipy-1.14.1-cp311-cp311-win_amd64.whl (44.8 MB)\n",
      "   ---------------------------------------- 0.0/44.8 MB ? eta -:--:--\n",
      "   ---------------------------------------- 0.0/44.8 MB ? eta -:--:--\n",
      "    --------------------------------------- 0.6/44.8 MB 6.6 MB/s eta 0:00:07\n",
      "    --------------------------------------- 1.1/44.8 MB 7.7 MB/s eta 0:00:06\n",
      "   - -------------------------------------- 1.7/44.8 MB 9.0 MB/s eta 0:00:05\n",
      "   -- ------------------------------------- 2.3/44.8 MB 9.6 MB/s eta 0:00:05\n",
      "   -- ------------------------------------- 2.7/44.8 MB 9.7 MB/s eta 0:00:05\n",
      "   --- ------------------------------------ 3.4/44.8 MB 10.2 MB/s eta 0:00:05\n",
      "   --- ------------------------------------ 3.8/44.8 MB 10.1 MB/s eta 0:00:05\n",
      "   --- ------------------------------------ 4.4/44.8 MB 10.7 MB/s eta 0:00:04\n",
      "   ---- ----------------------------------- 4.7/44.8 MB 10.4 MB/s eta 0:00:04\n",
      "   ---- ----------------------------------- 5.3/44.8 MB 10.5 MB/s eta 0:00:04\n",
      "   ----- ---------------------------------- 5.8/44.8 MB 10.2 MB/s eta 0:00:04\n",
      "   ----- ---------------------------------- 6.3/44.8 MB 10.3 MB/s eta 0:00:04\n",
      "   ------ --------------------------------- 6.9/44.8 MB 10.7 MB/s eta 0:00:04\n",
      "   ------ --------------------------------- 7.5/44.8 MB 10.8 MB/s eta 0:00:04\n",
      "   ------- -------------------------------- 7.9/44.8 MB 10.8 MB/s eta 0:00:04\n",
      "   ------- -------------------------------- 8.2/44.8 MB 10.5 MB/s eta 0:00:04\n",
      "   ------- -------------------------------- 8.6/44.8 MB 10.2 MB/s eta 0:00:04\n",
      "   -------- ------------------------------- 9.0/44.8 MB 10.1 MB/s eta 0:00:04\n",
      "   -------- ------------------------------- 9.5/44.8 MB 10.3 MB/s eta 0:00:04\n",
      "   -------- ------------------------------- 10.0/44.8 MB 10.3 MB/s eta 0:00:04\n",
      "   --------- ------------------------------ 10.3/44.8 MB 10.6 MB/s eta 0:00:04\n",
      "   --------- ------------------------------ 10.9/44.8 MB 10.6 MB/s eta 0:00:04\n",
      "   ---------- ----------------------------- 11.3/44.8 MB 10.6 MB/s eta 0:00:04\n",
      "   ---------- ----------------------------- 11.7/44.8 MB 10.4 MB/s eta 0:00:04\n",
      "   ---------- ----------------------------- 11.9/44.8 MB 10.1 MB/s eta 0:00:04\n",
      "   ----------- ---------------------------- 12.5/44.8 MB 10.2 MB/s eta 0:00:04\n",
      "   ----------- ---------------------------- 13.2/44.8 MB 10.2 MB/s eta 0:00:04\n",
      "   ------------ --------------------------- 13.6/44.8 MB 10.1 MB/s eta 0:00:04\n",
      "   ------------ --------------------------- 13.9/44.8 MB 9.9 MB/s eta 0:00:04\n",
      "   ------------ --------------------------- 14.4/44.8 MB 9.8 MB/s eta 0:00:04\n",
      "   ------------- -------------------------- 14.9/44.8 MB 9.9 MB/s eta 0:00:04\n",
      "   ------------- -------------------------- 15.5/44.8 MB 9.9 MB/s eta 0:00:03\n",
      "   -------------- ------------------------- 15.8/44.8 MB 9.9 MB/s eta 0:00:03\n",
      "   -------------- ------------------------- 16.2/44.8 MB 9.8 MB/s eta 0:00:03\n",
      "   -------------- ------------------------- 16.5/44.8 MB 9.6 MB/s eta 0:00:03\n",
      "   -------------- ------------------------- 16.5/44.8 MB 9.2 MB/s eta 0:00:04\n",
      "   -------------- ------------------------- 16.5/44.8 MB 9.1 MB/s eta 0:00:04\n",
      "   -------------- ------------------------- 16.6/44.8 MB 8.5 MB/s eta 0:00:04\n",
      "   -------------- ------------------------- 16.6/44.8 MB 8.5 MB/s eta 0:00:04\n",
      "   -------------- ------------------------- 16.7/44.8 MB 7.9 MB/s eta 0:00:04\n",
      "   -------------- ------------------------- 16.7/44.8 MB 7.9 MB/s eta 0:00:04\n",
      "   -------------- ------------------------- 16.7/44.8 MB 7.9 MB/s eta 0:00:04\n",
      "   --------------- ------------------------ 16.8/44.8 MB 7.2 MB/s eta 0:00:04\n",
      "   --------------- ------------------------ 16.8/44.8 MB 7.0 MB/s eta 0:00:04\n",
      "   --------------- ------------------------ 17.1/44.8 MB 6.9 MB/s eta 0:00:05\n",
      "   --------------- ------------------------ 17.1/44.8 MB 6.9 MB/s eta 0:00:05\n",
      "   --------------- ------------------------ 17.1/44.8 MB 6.5 MB/s eta 0:00:05\n",
      "   --------------- ------------------------ 17.2/44.8 MB 6.4 MB/s eta 0:00:05\n",
      "   --------------- ------------------------ 17.3/44.8 MB 6.2 MB/s eta 0:00:05\n",
      "   --------------- ------------------------ 17.5/44.8 MB 6.1 MB/s eta 0:00:05\n",
      "   ---------------- ----------------------- 17.9/44.8 MB 6.1 MB/s eta 0:00:05\n",
      "   ---------------- ----------------------- 18.0/44.8 MB 6.0 MB/s eta 0:00:05\n",
      "   ---------------- ----------------------- 18.0/44.8 MB 5.7 MB/s eta 0:00:05\n",
      "   ---------------- ----------------------- 18.1/44.8 MB 5.7 MB/s eta 0:00:05\n",
      "   ---------------- ----------------------- 18.3/44.8 MB 5.5 MB/s eta 0:00:05\n",
      "   ---------------- ----------------------- 18.6/44.8 MB 5.6 MB/s eta 0:00:05\n",
      "   ---------------- ----------------------- 19.0/44.8 MB 5.6 MB/s eta 0:00:05\n",
      "   ----------------- ---------------------- 19.4/44.8 MB 5.6 MB/s eta 0:00:05\n",
      "   ----------------- ---------------------- 19.8/44.8 MB 5.5 MB/s eta 0:00:05\n",
      "   ------------------ --------------------- 20.3/44.8 MB 5.5 MB/s eta 0:00:05\n",
      "   ------------------ --------------------- 20.7/44.8 MB 5.6 MB/s eta 0:00:05\n",
      "   ------------------ --------------------- 20.9/44.8 MB 5.5 MB/s eta 0:00:05\n",
      "   ------------------ --------------------- 21.1/44.8 MB 5.3 MB/s eta 0:00:05\n",
      "   ------------------- -------------------- 21.4/44.8 MB 5.4 MB/s eta 0:00:05\n",
      "   ------------------- -------------------- 21.9/44.8 MB 5.3 MB/s eta 0:00:05\n",
      "   ------------------- -------------------- 22.2/44.8 MB 5.4 MB/s eta 0:00:05\n",
      "   -------------------- ------------------- 22.6/44.8 MB 5.3 MB/s eta 0:00:05\n",
      "   -------------------- ------------------- 22.9/44.8 MB 5.2 MB/s eta 0:00:05\n",
      "   -------------------- ------------------- 23.4/44.8 MB 5.2 MB/s eta 0:00:05\n",
      "   --------------------- ------------------ 23.7/44.8 MB 5.2 MB/s eta 0:00:05\n",
      "   --------------------- ------------------ 24.1/44.8 MB 5.2 MB/s eta 0:00:04\n",
      "   --------------------- ------------------ 24.3/44.8 MB 5.2 MB/s eta 0:00:04\n",
      "   ---------------------- ----------------- 24.7/44.8 MB 5.2 MB/s eta 0:00:04\n",
      "   ---------------------- ----------------- 24.9/44.8 MB 5.1 MB/s eta 0:00:04\n",
      "   ---------------------- ----------------- 25.1/44.8 MB 5.1 MB/s eta 0:00:04\n",
      "   ---------------------- ----------------- 25.2/44.8 MB 5.0 MB/s eta 0:00:04\n",
      "   ---------------------- ----------------- 25.6/44.8 MB 4.9 MB/s eta 0:00:04\n",
      "   ----------------------- ---------------- 25.8/44.8 MB 4.9 MB/s eta 0:00:04\n",
      "   ----------------------- ---------------- 26.2/44.8 MB 4.9 MB/s eta 0:00:04\n",
      "   ----------------------- ---------------- 26.4/44.8 MB 4.8 MB/s eta 0:00:04\n",
      "   ----------------------- ---------------- 26.7/44.8 MB 4.8 MB/s eta 0:00:04\n",
      "   ------------------------ --------------- 26.9/44.8 MB 5.5 MB/s eta 0:00:04\n",
      "   ------------------------ --------------- 27.4/44.8 MB 6.4 MB/s eta 0:00:03\n",
      "   ------------------------ --------------- 27.8/44.8 MB 6.6 MB/s eta 0:00:03\n",
      "   ------------------------- -------------- 28.3/44.8 MB 7.0 MB/s eta 0:00:03\n",
      "   ------------------------- -------------- 28.6/44.8 MB 7.3 MB/s eta 0:00:03\n",
      "   ------------------------- -------------- 29.1/44.8 MB 7.4 MB/s eta 0:00:03\n",
      "   -------------------------- ------------- 29.5/44.8 MB 7.4 MB/s eta 0:00:03\n",
      "   -------------------------- ------------- 29.7/44.8 MB 7.3 MB/s eta 0:00:03\n",
      "   --------------------------- ------------ 30.2/44.8 MB 7.3 MB/s eta 0:00:03\n",
      "   --------------------------- ------------ 30.6/44.8 MB 7.3 MB/s eta 0:00:02\n",
      "   --------------------------- ------------ 31.0/44.8 MB 7.4 MB/s eta 0:00:02\n",
      "   --------------------------- ------------ 31.1/44.8 MB 7.1 MB/s eta 0:00:02\n",
      "   ---------------------------- ----------- 31.5/44.8 MB 7.3 MB/s eta 0:00:02\n",
      "   ---------------------------- ----------- 31.6/44.8 MB 7.1 MB/s eta 0:00:02\n",
      "   ---------------------------- ----------- 31.8/44.8 MB 7.1 MB/s eta 0:00:02\n",
      "   ---------------------------- ----------- 32.0/44.8 MB 7.0 MB/s eta 0:00:02\n",
      "   ---------------------------- ----------- 32.3/44.8 MB 6.8 MB/s eta 0:00:02\n",
      "   ----------------------------- ---------- 32.5/44.8 MB 6.8 MB/s eta 0:00:02\n",
      "   ----------------------------- ---------- 32.6/44.8 MB 6.7 MB/s eta 0:00:02\n",
      "   ----------------------------- ---------- 32.8/44.8 MB 6.5 MB/s eta 0:00:02\n",
      "   ----------------------------- ---------- 33.2/44.8 MB 6.6 MB/s eta 0:00:02\n",
      "   ------------------------------ --------- 33.6/44.8 MB 6.6 MB/s eta 0:00:02\n",
      "   ------------------------------ --------- 34.1/44.8 MB 6.7 MB/s eta 0:00:02\n",
      "   ------------------------------ --------- 34.3/44.8 MB 6.5 MB/s eta 0:00:02\n",
      "   ------------------------------ --------- 34.5/44.8 MB 6.7 MB/s eta 0:00:02\n",
      "   ------------------------------- -------- 34.8/44.8 MB 6.6 MB/s eta 0:00:02\n",
      "   ------------------------------- -------- 35.1/44.8 MB 6.5 MB/s eta 0:00:02\n",
      "   ------------------------------- -------- 35.3/44.8 MB 6.5 MB/s eta 0:00:02\n",
      "   -------------------------------- ------- 35.8/44.8 MB 6.7 MB/s eta 0:00:02\n",
      "   -------------------------------- ------- 36.1/44.8 MB 6.7 MB/s eta 0:00:02\n",
      "   -------------------------------- ------- 36.5/44.8 MB 6.7 MB/s eta 0:00:02\n",
      "   -------------------------------- ------- 36.9/44.8 MB 6.8 MB/s eta 0:00:02\n",
      "   --------------------------------- ------ 37.1/44.8 MB 6.8 MB/s eta 0:00:02\n",
      "   --------------------------------- ------ 37.4/44.8 MB 6.9 MB/s eta 0:00:02\n",
      "   --------------------------------- ------ 37.7/44.8 MB 6.8 MB/s eta 0:00:02\n",
      "   --------------------------------- ------ 37.9/44.8 MB 6.7 MB/s eta 0:00:02\n",
      "   ---------------------------------- ----- 38.4/44.8 MB 6.7 MB/s eta 0:00:01\n",
      "   ---------------------------------- ----- 38.7/44.8 MB 6.7 MB/s eta 0:00:01\n",
      "   ---------------------------------- ----- 39.1/44.8 MB 6.6 MB/s eta 0:00:01\n",
      "   ----------------------------------- ---- 39.3/44.8 MB 6.6 MB/s eta 0:00:01\n",
      "   ----------------------------------- ---- 39.7/44.8 MB 6.5 MB/s eta 0:00:01\n",
      "   ----------------------------------- ---- 39.8/44.8 MB 6.4 MB/s eta 0:00:01\n",
      "   ----------------------------------- ---- 39.8/44.8 MB 6.4 MB/s eta 0:00:01\n",
      "   ----------------------------------- ---- 39.9/44.8 MB 6.1 MB/s eta 0:00:01\n",
      "   ----------------------------------- ---- 40.3/44.8 MB 6.1 MB/s eta 0:00:01\n",
      "   ------------------------------------ --- 40.6/44.8 MB 6.0 MB/s eta 0:00:01\n",
      "   ------------------------------------ --- 40.9/44.8 MB 6.0 MB/s eta 0:00:01\n",
      "   ------------------------------------ --- 41.3/44.8 MB 6.2 MB/s eta 0:00:01\n",
      "   ------------------------------------- -- 41.7/44.8 MB 6.2 MB/s eta 0:00:01\n",
      "   ------------------------------------- -- 42.1/44.8 MB 6.4 MB/s eta 0:00:01\n",
      "   ------------------------------------- -- 42.5/44.8 MB 6.5 MB/s eta 0:00:01\n",
      "   -------------------------------------- - 42.8/44.8 MB 6.5 MB/s eta 0:00:01\n",
      "   -------------------------------------- - 43.0/44.8 MB 6.7 MB/s eta 0:00:01\n",
      "   -------------------------------------- - 43.2/44.8 MB 6.5 MB/s eta 0:00:01\n",
      "   -------------------------------------- - 43.6/44.8 MB 6.5 MB/s eta 0:00:01\n",
      "   ---------------------------------------  44.0/44.8 MB 6.5 MB/s eta 0:00:01\n",
      "   ---------------------------------------  44.3/44.8 MB 6.5 MB/s eta 0:00:01\n",
      "   ---------------------------------------  44.6/44.8 MB 6.5 MB/s eta 0:00:01\n",
      "   ---------------------------------------  44.8/44.8 MB 6.5 MB/s eta 0:00:01\n",
      "   ---------------------------------------  44.8/44.8 MB 6.5 MB/s eta 0:00:01\n",
      "   ---------------------------------------- 44.8/44.8 MB 6.2 MB/s eta 0:00:00\n",
      "Using cached threadpoolctl-3.5.0-py3-none-any.whl (18 kB)\n",
      "Installing collected packages: threadpoolctl, scipy, joblib, scikit-learn\n",
      "Successfully installed joblib-1.4.2 scikit-learn-1.6.0 scipy-1.14.1 threadpoolctl-3.5.0\n",
      "Note: you may need to restart the kernel to use updated packages.\n"
     ]
    },
    {
     "name": "stderr",
     "output_type": "stream",
     "text": [
      "\n",
      "[notice] A new release of pip is available: 24.0 -> 24.3.1\n",
      "[notice] To update, run: python.exe -m pip install --upgrade pip\n"
     ]
    }
   ],
   "source": [
    "%pip install scikit-learn"
   ]
  },
  {
   "cell_type": "markdown",
   "metadata": {},
   "source": [
    "# Load Data"
   ]
  },
  {
   "cell_type": "code",
   "execution_count": 8,
   "metadata": {},
   "outputs": [],
   "source": [
    "import os\n",
    "import torch\n",
    "import torch.nn as nn\n",
    "import torch.optim as optim\n",
    "from torchvision import datasets, transforms, models\n",
    "from torch.utils.data import DataLoader\n",
    "from sklearn.metrics import classification_report, accuracy_score\n",
    "from PIL import Image\n",
    "import numpy as np\n",
    "import matplotlib.pyplot as plt"
   ]
  },
  {
   "cell_type": "code",
   "execution_count": 9,
   "metadata": {},
   "outputs": [],
   "source": [
    "# Dataset Preparation\n",
    "DATASET_DIR = \"./dataset_destinasi\"  # Direktori dataset\n",
    "IMG_HEIGHT, IMG_WIDTH = 224, 224\n",
    "BATCH_SIZE = 32\n",
    "CLASSES = [\"buildings\", \"forest\", \"glacier\", \"mountain\", \"sea\", \"street\"]\n"
   ]
  },
  {
   "cell_type": "code",
   "execution_count": 10,
   "metadata": {},
   "outputs": [],
   "source": [
    "# Transformasi Dataset\n",
    "transform = transforms.Compose([\n",
    "    transforms.Resize((IMG_HEIGHT, IMG_WIDTH)),\n",
    "    transforms.ToTensor(),\n",
    "    transforms.Normalize([0.5, 0.5, 0.5], [0.5, 0.5, 0.5])\n",
    "])"
   ]
  },
  {
   "cell_type": "code",
   "execution_count": 11,
   "metadata": {},
   "outputs": [],
   "source": [
    "# Load Dataset\n",
    "train_dataset = datasets.ImageFolder(os.path.join(DATASET_DIR, 'seg_train'), transform=transform)\n",
    "test_dataset = datasets.ImageFolder(os.path.join(DATASET_DIR, 'seg_test'), transform=transform)\n",
    "\n",
    "train_loader = DataLoader(train_dataset, batch_size=BATCH_SIZE, shuffle=True, num_workers=4)\n",
    "test_loader = DataLoader(test_dataset, batch_size=BATCH_SIZE, shuffle=False, num_workers=4)"
   ]
  },
  {
   "cell_type": "code",
   "execution_count": 12,
   "metadata": {},
   "outputs": [
    {
     "name": "stdout",
     "output_type": "stream",
     "text": [
      "Using device: cpu\n"
     ]
    }
   ],
   "source": [
    "# Device Configuration\n",
    "device = torch.device(\"cuda\" if torch.cuda.is_available() else \"cpu\")\n",
    "print(\"Using device:\", device)"
   ]
  },
  {
   "cell_type": "code",
   "execution_count": 13,
   "metadata": {},
   "outputs": [
    {
     "name": "stdout",
     "output_type": "stream",
     "text": [
      "6\n"
     ]
    }
   ],
   "source": [
    "# Number of classes\n",
    "num_classes = len(train_dataset.classes)\n",
    "print(num_classes)"
   ]
  },
  {
   "cell_type": "code",
   "execution_count": 14,
   "metadata": {},
   "outputs": [],
   "source": [
    "# # DataLoader\n",
    "# train_loader = DataLoader(\n",
    "#     train_dataset,\n",
    "#     batch_size=64,\n",
    "#     shuffle=True,\n",
    "#     num_workers=4\n",
    "# )\n",
    "\n",
    "# test_loader = DataLoader(\n",
    "#     test_dataset,\n",
    "#     batch_size=32,\n",
    "#     shuffle=False,\n",
    "#     num_workers=4\n",
    "# )\n"
   ]
  },
  {
   "cell_type": "markdown",
   "metadata": {},
   "source": [
    "# Model"
   ]
  },
  {
   "cell_type": "markdown",
   "metadata": {},
   "source": [
    "## CNN"
   ]
  },
  {
   "cell_type": "code",
   "execution_count": 15,
   "metadata": {},
   "outputs": [],
   "source": [
    "class CNN(nn.Module):\n",
    "    def __init__(self, num_classes):\n",
    "        super(CNN, self).__init__()\n",
    "        self.conv1 = nn.Conv2d(3, 32, kernel_size=3, padding=1)\n",
    "        self.conv2 = nn.Conv2d(32, 64, kernel_size=3, padding=1)\n",
    "        self.conv3 = nn.Conv2d(64, 128, kernel_size=3, padding=1)\n",
    "        self.pool = nn.MaxPool2d(kernel_size=2, stride=2)\n",
    "        self.flatten = nn.Flatten()\n",
    "        self.fc1 = nn.Linear(128 * 28 * 28, 512)\n",
    "        self.fc2 = nn.Linear(512, num_classes)\n",
    "        self.relu = nn.ReLU()\n",
    "        self.dropout = nn.Dropout(0.5)\n",
    "    \n",
    "    def forward(self, x):\n",
    "        x = self.pool(self.relu(self.conv1(x)))\n",
    "        x = self.pool(self.relu(self.conv2(x)))\n",
    "        x = self.pool(self.relu(self.conv3(x)))\n",
    "        x = self.flatten(x)\n",
    "        x = self.dropout(self.relu(self.fc1(x)))\n",
    "        x = self.fc2(x)\n",
    "        return x\n",
    "\n",
    "cnn_model = CNN(num_classes=len(CLASSES)).to(device)\n"
   ]
  },
  {
   "cell_type": "markdown",
   "metadata": {},
   "source": [
    "# ResNet"
   ]
  },
  {
   "cell_type": "code",
   "execution_count": 16,
   "metadata": {},
   "outputs": [
    {
     "name": "stderr",
     "output_type": "stream",
     "text": [
      "c:\\Users\\user\\AppData\\Local\\Programs\\Python\\Python311\\Lib\\site-packages\\torchvision\\models\\_utils.py:208: UserWarning: The parameter 'pretrained' is deprecated since 0.13 and may be removed in the future, please use 'weights' instead.\n",
      "  warnings.warn(\n",
      "c:\\Users\\user\\AppData\\Local\\Programs\\Python\\Python311\\Lib\\site-packages\\torchvision\\models\\_utils.py:223: UserWarning: Arguments other than a weight enum or `None` for 'weights' are deprecated since 0.13 and may be removed in the future. The current behavior is equivalent to passing `weights=ResNet18_Weights.IMAGENET1K_V1`. You can also use `weights=ResNet18_Weights.DEFAULT` to get the most up-to-date weights.\n",
      "  warnings.warn(msg)\n"
     ]
    }
   ],
   "source": [
    "# # Initialize Models\n",
    "# num_classes = len(train_dataset.classes)\n",
    "# cnn_model = CNN(num_classes).to(device)\n",
    "# resnet_model = models.resnet18(weights='IMAGENET1K_V1')\n",
    "# resnet_model.fc = nn.Linear(resnet_model.fc.in_features, num_classes)\n",
    "# resnet_model = resnet_model.to(device)\n",
    "\n",
    "# # Loss and Optimizer\n",
    "# criterion = nn.CrossEntropyLoss()\n",
    "# cnn_optimizer = optim.Adam(cnn_model.parameters(), lr=0.001)\n",
    "# resnet_optimizer = optim.Adam(resnet_model.parameters(), lr=0.001)\n",
    "\n",
    "resnet_model = models.resnet18(pretrained=True)\n",
    "resnet_model.fc = nn.Linear(resnet_model.fc.in_features, len(CLASSES))\n",
    "resnet_model = resnet_model.to(device)\n"
   ]
  },
  {
   "cell_type": "code",
   "execution_count": 17,
   "metadata": {},
   "outputs": [],
   "source": [
    "def train_and_validate(model, optimizer, train_loader, test_loader, num_epochs=10):\n",
    "    criterion = nn.CrossEntropyLoss()\n",
    "    train_loss_history, val_loss_history = [], []\n",
    "    train_acc_history, val_acc_history = [], []\n",
    "\n",
    "    for epoch in range(num_epochs):\n",
    "        # Training\n",
    "        model.train()\n",
    "        train_loss, correct_train, total_train = 0, 0, 0\n",
    "        for images, labels in train_loader:\n",
    "            images, labels = images.to(device), labels.to(device)\n",
    "            optimizer.zero_grad()\n",
    "            outputs = model(images)\n",
    "            loss = criterion(outputs, labels)\n",
    "            loss.backward()\n",
    "            optimizer.step()\n",
    "            \n",
    "            train_loss += loss.item()\n",
    "            _, predicted = torch.max(outputs, 1)\n",
    "            total_train += labels.size(0)\n",
    "            correct_train += (predicted == labels).sum().item()\n",
    "\n",
    "        train_accuracy = 100 * correct_train / total_train\n",
    "        train_loss /= len(train_loader)\n",
    "\n",
    "        # Validation\n",
    "        model.eval()\n",
    "        val_loss, correct_val, total_val = 0, 0, 0\n",
    "        with torch.no_grad():\n",
    "            for images, labels in test_loader:\n",
    "                images, labels = images.to(device), labels.to(device)\n",
    "                outputs = model(images)\n",
    "                loss = criterion(outputs, labels)\n",
    "                val_loss += loss.item()\n",
    "                _, predicted = torch.max(outputs, 1)\n",
    "                total_val += labels.size(0)\n",
    "                correct_val += (predicted == labels).sum().item()\n",
    "\n",
    "        val_accuracy = 100 * correct_val / total_val\n",
    "        val_loss /= len(test_loader)\n",
    "\n",
    "        # Logging\n",
    "        train_loss_history.append(train_loss)\n",
    "        val_loss_history.append(val_loss)\n",
    "        train_acc_history.append(train_accuracy)\n",
    "        val_acc_history.append(val_accuracy)\n",
    "\n",
    "        print(f\"Epoch [{epoch+1}/{num_epochs}], Train Loss: {train_loss:.4f}, Train Acc: {train_accuracy:.2f}%, Val Loss: {val_loss:.4f}, Val Acc: {val_accuracy:.2f}%\")\n",
    "\n",
    "    return train_loss_history, val_loss_history, train_acc_history, val_acc_history\n"
   ]
  },
  {
   "cell_type": "code",
   "execution_count": 18,
   "metadata": {},
   "outputs": [],
   "source": [
    "def evaluate_model(model, test_loader):\n",
    "    model.eval()\n",
    "    all_labels = []\n",
    "    all_preds = []\n",
    "    with torch.no_grad():\n",
    "        for images, labels in test_loader:\n",
    "            images, labels = images.to(device), labels.to(device)\n",
    "            outputs = model(images)\n",
    "            _, predicted = torch.max(outputs, 1)\n",
    "            all_labels.extend(labels.cpu().numpy())\n",
    "            all_preds.extend(predicted.cpu().numpy())\n",
    "\n",
    "    print(\"Accuracy:\", accuracy_score(all_labels, all_preds))\n",
    "    print(\"Classification Report:\\n\", classification_report(all_labels, all_preds, target_names=CLASSES))\n"
   ]
  },
  {
   "cell_type": "code",
   "execution_count": 19,
   "metadata": {},
   "outputs": [],
   "source": [
    "def plot_metrics(train_acc, val_acc, train_loss, val_loss):\n",
    "    epochs = range(len(train_acc))\n",
    "    plt.figure(figsize=(12, 5))\n",
    "\n",
    "    # Plot Accuracy\n",
    "    plt.subplot(1, 2, 1)\n",
    "    plt.plot(epochs, train_acc, label='Training Accuracy')\n",
    "    plt.plot(epochs, val_acc, label='Validation Accuracy')\n",
    "    plt.legend()\n",
    "    plt.title('Training and Validation Accuracy')\n",
    "\n",
    "    # Plot Loss\n",
    "    plt.subplot(1, 2, 2)\n",
    "    plt.plot(epochs, train_loss, label='Training Loss')\n",
    "    plt.plot(epochs, val_loss, label='Validation Loss')\n",
    "    plt.legend()\n",
    "    plt.title('Training and Validation Loss')\n",
    "\n",
    "    plt.show()\n"
   ]
  },
  {
   "cell_type": "code",
   "execution_count": null,
   "metadata": {},
   "outputs": [
    {
     "name": "stdout",
     "output_type": "stream",
     "text": [
      "Epoch [1/10], Train Loss: 0.9317, Train Acc: 64.94%, Val Loss: 0.7351, Val Acc: 72.20%\n",
      "Epoch [2/10], Train Loss: 0.6051, Train Acc: 78.26%, Val Loss: 0.5434, Val Acc: 80.70%\n",
      "Epoch [3/10], Train Loss: 0.4732, Train Acc: 83.18%, Val Loss: 0.4963, Val Acc: 83.37%\n",
      "Epoch [4/10], Train Loss: 0.3391, Train Acc: 87.79%, Val Loss: 0.4854, Val Acc: 84.43%\n",
      "Epoch [5/10], Train Loss: 0.2086, Train Acc: 92.87%, Val Loss: 0.6528, Val Acc: 82.17%\n",
      "Epoch [6/10], Train Loss: 0.1378, Train Acc: 95.30%, Val Loss: 0.6666, Val Acc: 82.63%\n"
     ]
    }
   ],
   "source": [
    "# CNN Model Training\n",
    "cnn_optimizer = optim.Adam(cnn_model.parameters(), lr=0.001)\n",
    "cnn_train_loss, cnn_val_loss, cnn_train_acc, cnn_val_acc = train_and_validate(cnn_model, cnn_optimizer, train_loader, test_loader)\n",
    "\n",
    "evaluate_model(cnn_model, test_loader)\n",
    "plot_metrics(cnn_train_acc, cnn_val_acc, cnn_train_loss, cnn_val_loss)\n",
    "torch.save(cnn_model.state_dict(), \"cnn_model.pth\")"
   ]
  },
  {
   "cell_type": "code",
   "execution_count": 19,
   "metadata": {},
   "outputs": [],
   "source": [
    "# ResNet Model Training\n",
    "resnet_optimizer = optim.Adam(resnet_model.parameters(), lr=0.001)\n",
    "resnet_train_loss, resnet_val_loss, resnet_train_acc, resnet_val_acc = train_and_validate(resnet_model, resnet_optimizer, train_loader, test_loader)\n",
    "\n",
    "evaluate_model(resnet_model, test_loader)\n",
    "plot_metrics(resnet_train_acc, resnet_val_acc, resnet_train_loss, resnet_val_loss)\n",
    "torch.save(resnet_model.state_dict(), \"resnet_model.pth\")"
   ]
  },
  {
   "cell_type": "code",
   "execution_count": null,
   "metadata": {},
   "outputs": [],
   "source": []
  }
 ],
 "metadata": {
  "kernelspec": {
   "display_name": "Python 3",
   "language": "python",
   "name": "python3"
  },
  "language_info": {
   "codemirror_mode": {
    "name": "ipython",
    "version": 3
   },
   "file_extension": ".py",
   "mimetype": "text/x-python",
   "name": "python",
   "nbconvert_exporter": "python",
   "pygments_lexer": "ipython3",
   "version": "3.11.9"
  }
 },
 "nbformat": 4,
 "nbformat_minor": 2
}
